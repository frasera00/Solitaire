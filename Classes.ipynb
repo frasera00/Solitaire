{
 "cells": [
  {
   "cell_type": "markdown",
   "metadata": {},
   "source": [
    "# Introduction to Python Classes\n",
    "\n",
    "In Python, a **class** is a blueprint for creating objects. Classes encapsulate data for the object and methods to manipulate that data. Using classes, you can model real-world entities and their behaviors (such as a deck of cards!)."
   ]
  },
  {
   "cell_type": "markdown",
   "metadata": {},
   "source": [
    "## Defining a Simple Class\n",
    "\n",
    "Let's define a simple class called `Dog`."
   ]
  },
  {
   "cell_type": "code",
   "execution_count": null,
   "metadata": {},
   "outputs": [
    {
     "name": "stdout",
     "output_type": "stream",
     "text": [
      "name:  Rex\n",
      "age:  3\n"
     ]
    }
   ],
   "source": [
    "class Dog:\n",
    "    def __init__(self, name, age):\n",
    "        self.name = name\n",
    "        self.age = age\n",
    "\n",
    "# Instantiate a class\n",
    "Rex = Dog(name=\"Rex\", age=3)\n",
    "print(\"name: \", Rex.name)  # Output: Rex\n",
    "print(\"age: \",Rex.age)   # Output: 3\n"
   ]
  },
  {
   "cell_type": "markdown",
   "metadata": {},
   "source": [
    "## Adding Methods to a Class\n",
    "\n",
    "Methods are functions defined inside a class that operate on its instances."
   ]
  },
  {
   "cell_type": "code",
   "execution_count": 5,
   "metadata": {},
   "outputs": [
    {
     "name": "stdout",
     "output_type": "stream",
     "text": [
      "Antonella says au au!\n"
     ]
    }
   ],
   "source": [
    "class Dog:\n",
    "    def __init__(self, name, age):\n",
    "        self.name = name\n",
    "        self.age = age\n",
    "    \n",
    "    def bark(self, words):\n",
    "        print(f\"{self.name} says {words}!\")\n",
    "\n",
    "Antonella = Dog(name=\"Antonella\", age=5)\n",
    "Antonella.bark(words=\"au au\")"
   ]
  },
  {
   "cell_type": "markdown",
   "metadata": {},
   "source": [
    "## The `__str__` Method\n",
    "\n",
    "The `__str__` method defines the string representation of an object. It is called when you use `print()` on an object."
   ]
  },
  {
   "cell_type": "code",
   "execution_count": null,
   "metadata": {},
   "outputs": [],
   "source": [
    "class Dog:\n",
    "    def __init__(self, name, age):\n",
    "        self.name = name\n",
    "        self.age = age\n",
    "    \n",
    "    def __str__(self):\n",
    "        return f\"Dog(name={self.name}, age={self.age})\"\n",
    "\n",
    "my_dog = Dog(\"Buddy\", 3)\n",
    "print(my_dog)  # Output: Dog(name=Buddy, age=3)"
   ]
  },
  {
   "cell_type": "markdown",
   "metadata": {},
   "source": [
    "## Summary\n",
    "\n",
    "- Classes are blueprints for objects.\n",
    "- Use the `__init__` method to initialize object attributes.\n",
    "- Define methods to add behaviors to your objects.\n",
    "- Use special methods like `__str__` to customize object representation."
   ]
  }
 ],
 "metadata": {
  "kernelspec": {
   "display_name": ".venv",
   "language": "python",
   "name": "python3"
  },
  "language_info": {
   "codemirror_mode": {
    "name": "ipython",
    "version": 3
   },
   "file_extension": ".py",
   "mimetype": "text/x-python",
   "name": "python",
   "nbconvert_exporter": "python",
   "pygments_lexer": "ipython3",
   "version": "3.12.10"
  }
 },
 "nbformat": 4,
 "nbformat_minor": 2
}
